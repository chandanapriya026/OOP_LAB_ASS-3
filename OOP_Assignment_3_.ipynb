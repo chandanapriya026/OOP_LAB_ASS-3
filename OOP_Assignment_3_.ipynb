{
  "nbformat": 4,
  "nbformat_minor": 0,
  "metadata": {
    "colab": {
      "name": "OOP-Assignment_3 .ipynb",
      "provenance": [],
      "collapsed_sections": []
    },
    "kernelspec": {
      "name": "python3",
      "display_name": "Python 3"
    },
    "language_info": {
      "name": "python"
    }
  },
  "cells": [
    {
      "cell_type": "code",
      "metadata": {
        "colab": {
          "base_uri": "https://localhost:8080/"
        },
        "id": "bXLOP2B9Vx5I",
        "outputId": "c29ee4c9-8222-4a5e-cdd8-62a6aab3f937"
      },
      "source": [
        "class student :\n",
        "  def __init__(self):\n",
        "    self.name=input(print(\"enter your name :\"))\n",
        "    self.regno=input(print(\"enter your regno :\"))\n",
        "    self.age=input(print(\"enter your age :\"))\n",
        "    self.gender=input(print(\"enter your gender M/F \"))\n",
        "  def display(self):\n",
        "    print(\"these are the details of student :\")\n",
        "    print(self.name)\n",
        "    print(self.regno)\n",
        "    print(self.age)\n",
        "    print(self.gender)\n",
        "class studentresultinfo(student) :\n",
        "  def percentage(self):\n",
        "    self.sub1=float(input(print(\"enter marks in 1st subject :\")))\n",
        "    self.sub2=float(input(print(\"enter marks in 2nd subject :\")))\n",
        "    self.sub3=float(input(print(\"enter makrs in 3rd subject :\")))\n",
        "    self.x=float((self.sub1+self.sub2+self.sub3)*(100/300))\n",
        "    print(\"percetage you got is {}\".format(self.x))\n",
        "  def grading(self):\n",
        "    if self.x>=90 :\n",
        "      print(\"you have got A+ grade \")\n",
        "    if 80<=self.x<90 :\n",
        "      print(\"you have got A grade \")\n",
        "    if 50<self.x<80:\n",
        "      print(\"you have got B grade \")\n",
        "    if self.x<50 :\n",
        "      print(\"you have got F grade \")\n",
        "\n",
        "s=studentresultinfo()\n",
        "s.display()\n",
        "s.percentage()\n",
        "s.grading()"
      ],
      "execution_count": 1,
      "outputs": [
        {
          "output_type": "stream",
          "name": "stdout",
          "text": [
            "enter your name :\n",
            "Priya\n",
            "enter your regno :\n",
            "26\n",
            "enter your age :\n",
            "19\n",
            "enter your gender M/F \n",
            "F\n",
            "these are the details of student :\n",
            "Priya\n",
            "26\n",
            "19\n",
            "F\n",
            "enter marks in 1st subject :\n",
            "90\n",
            "enter marks in 2nd subject :\n",
            "90\n",
            "enter makrs in 3rd subject :\n",
            "90\n",
            "percetage you got is 90.0\n",
            "you have got A+ grade \n"
          ]
        }
      ]
    },
    {
      "cell_type": "code",
      "metadata": {
        "colab": {
          "base_uri": "https://localhost:8080/"
        },
        "id": "F-y2KNlLV81P",
        "outputId": "6fd3e318-3603-4274-ab7d-e627b80c335d"
      },
      "source": [
        "class Vehicle:\n",
        "    def __init__(self, name, mileage, capacity):\n",
        "        self.name = name\n",
        "        self.mileage = mileage\n",
        "        self.capacity = capacity\n",
        "\n",
        "    def bus_fare(self):\n",
        "        return self.capacity * 100\n",
        "\n",
        "class Bus(Vehicle):\n",
        "    \n",
        "    def fare(self):\n",
        "        total_fare = self.capacity * 100 \n",
        "        final_amount = total_fare + (0.1 * total_fare)\n",
        "        return final_amount\n",
        "\n",
        "School_bus = Bus(\"School Volvo\", 12, 50)\n",
        "print(\"Total Bus fare is:\", School_bus.fare())"
      ],
      "execution_count": 2,
      "outputs": [
        {
          "output_type": "stream",
          "name": "stdout",
          "text": [
            "Total Bus fare is: 5500.0\n"
          ]
        }
      ]
    },
    {
      "cell_type": "code",
      "metadata": {
        "colab": {
          "base_uri": "https://localhost:8080/"
        },
        "id": "qVtEeCXNV9sh",
        "outputId": "bb969e33-fb34-4043-b506-ebec4c847cc7"
      },
      "source": [
        "class Pdf:\n",
        "  def __init__(self) :\n",
        "    self.name=input(print(\"enter the name of creater :\"))\n",
        "    self.description=input(print(\"enter a description : \"))\n",
        "    self.filesize=int(input(print(\"enter the size of this file :\")))\n",
        "  def display(self):\n",
        "    #print(\"these are the details of the file :\")\n",
        "    print(self.name)\n",
        "    print(self.description)\n",
        "    print(self.filesize)\n",
        "class pictures(Pdf):\n",
        "  def __init__(self):     #,name,dimensions,description,filesize\n",
        "    \n",
        "    self.dimensions=[]\n",
        "  def dim(self):\n",
        "    l = int(input(\"Enter the length : \"))\n",
        "    self.dimensions.append(l)\n",
        "    b = int(input(\"Enter the breadth : \"))\n",
        "    self.dimensions.append(b)\n",
        "\n",
        "    Pdf.__init__(self)\n",
        "  def show(self):\n",
        "    print(self.name)\n",
        "    print(self.description)\n",
        "    print(self.filesize)\n",
        "    print(self.dimensions)\n",
        "\n",
        "  def check_dim(self):\n",
        "    if(self.dimensions[0]>=5 or self.dimensions[1]>=5):\n",
        "      print(\"Pic is of high dimension\")\n",
        "    else:\n",
        "      print(\"Pic is not high dimension\")\n",
        "\n",
        "  def check_filesize(self):\n",
        "    if((doc.filesize + filetype.filesize)>=200):\n",
        "      print(\"The file size is high\")\n",
        "    else:\n",
        "      print(\"The file size is not high\")\n",
        "\n",
        "doc= Pdf()\n",
        "filetype=pictures()\n",
        "filetype.dim()\n",
        "print(\"PDF Details\")\n",
        "doc.display()\n",
        "print(\"PICTURE Details\")\n",
        "filetype.show()\n",
        "filetype.check_dim()\n",
        "filetype.check_filesize()"
      ],
      "execution_count": 7,
      "outputs": [
        {
          "output_type": "stream",
          "name": "stdout",
          "text": [
            "enter the name of creater :\n",
            "xyz\n",
            "enter a description : \n",
            "python\n",
            "enter the size of this file :\n",
            "25\n",
            "Enter the length : 4\n",
            "Enter the breadth : 4\n",
            "enter the name of creater :\n",
            "abc\n",
            "enter a description : \n",
            "oop\n",
            "enter the size of this file :\n",
            "50\n",
            "PDF Details\n",
            "xyz\n",
            "python\n",
            "25\n",
            "PICTURE Details\n",
            "abc\n",
            "oop\n",
            "50\n",
            "[4, 4]\n",
            "Pic is not high dimension\n",
            "The file size is not high\n"
          ]
        }
      ]
    }
  ]
}